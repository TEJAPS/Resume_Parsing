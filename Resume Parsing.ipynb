{
 "cells": [
  {
   "cell_type": "code",
   "execution_count": 11,
   "metadata": {},
   "outputs": [
    {
     "name": "stdout",
     "output_type": "stream",
     "text": [
      "this is gmail: tejapolisetty143@gmail.com\n",
      "this is phone number:  8686298396\n",
      "this is also phone number: None\n",
      "this is name : Polisetty Sai\n",
      "this is pin number:  500085\n",
      "this is address:  \n",
      "\t      Kiranmai Residency, Kphb colony.\n"
     ]
    }
   ],
   "source": [
    "import tika\n",
    "from tika import parser\n",
    "import re\n",
    "class ResumeParsing:\n",
    "    def parseAnyFile():\n",
    "        tika.initVM()\n",
    "        parsed = parser.from_file(\"MyResume.docx\")\n",
    "        #print(parsed[\"content\"])\n",
    "        regular_expression = re.compile(r\"[A-Z0-9._%+-]+@[A-Z0-9.-]+\\.[A-Z]{2,4}\", re.IGNORECASE)       \n",
    "        regular_expression1 = re.compile(r\"[[+91]*[' ']*[0-9]{10}]*\", re.IGNORECASE)\n",
    "        regular_expression2 = re.compile(r\"[['('][0-9]{3}[')'][' '[0-9]{3}'-'[0-9]{4}]]*\", re.IGNORECASE)\n",
    "        name_exp=re.compile(r\"[\\w]+\\s[\\w]+\", re.IGNORECASE)\n",
    "        pin_exp=re.compile(r\"[\\d]{6}\", re.IGNORECASE)        \n",
    "        address_exp = re.compile(r\"[a-z\\s]+,[a-z\\s]+\\.\", re.IGNORECASE)\n",
    "        result = re.search(regular_expression,parsed[\"content\"]) \n",
    "        result1 = re.search(regular_expression1,parsed[\"content\"])\n",
    "        result2 = re.search(regular_expression2,parsed[\"content\"])\n",
    "        result3 = re.search(name_exp,parsed[\"content\"])\n",
    "        pin = re.search(pin_exp,parsed[\"content\"])\n",
    "        add = re.search(address_exp,parsed[\"content\"])\n",
    "        \n",
    "        print(\"this is gmail:\",result.group())\n",
    "        print(\"this is phone number:\",result1.group())\n",
    "        print(\"this is also phone number:\",result2)\n",
    "        print(\"this is name :\",result3.group())\n",
    "        print(\"this is pin number: \",pin.group())\n",
    "        print(\"this is address: \",add.group())\n",
    "    if __name__==\"__main__\":\n",
    "        parseAnyFile()"
   ]
  },
  {
   "cell_type": "code",
   "execution_count": null,
   "metadata": {},
   "outputs": [],
   "source": []
  },
  {
   "cell_type": "code",
   "execution_count": null,
   "metadata": {
    "collapsed": true
   },
   "outputs": [],
   "source": []
  },
  {
   "cell_type": "code",
   "execution_count": null,
   "metadata": {},
   "outputs": [],
   "source": []
  },
  {
   "cell_type": "code",
   "execution_count": null,
   "metadata": {
    "collapsed": true
   },
   "outputs": [],
   "source": []
  }
 ],
 "metadata": {
  "kernelspec": {
   "display_name": "Python 3",
   "language": "python",
   "name": "python3"
  },
  "language_info": {
   "codemirror_mode": {
    "name": "ipython",
    "version": 3
   },
   "file_extension": ".py",
   "mimetype": "text/x-python",
   "name": "python",
   "nbconvert_exporter": "python",
   "pygments_lexer": "ipython3",
   "version": "3.6.1"
  }
 },
 "nbformat": 4,
 "nbformat_minor": 2
}
